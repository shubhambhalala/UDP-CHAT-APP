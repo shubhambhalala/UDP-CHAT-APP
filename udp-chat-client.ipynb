{
 "cells": [
  {
   "cell_type": "code",
   "execution_count": 1,
   "metadata": {},
   "outputs": [
    {
     "name": "stdout",
     "output_type": "stream",
     "text": [
      "CHAT SERVICE UP AND RUNNING\n",
      "Enter q or quit to end the session\n",
      "Enter your name (press enter to take system name): Shubham(DevOps)\n",
      "Enter the IP of recv: 192.168.99.1\n",
      "You: Hello Sir\n",
      "Admin : Good morning, We have a meeting @7 ✌\n",
      "You: Yes, sir. Already ready 🔥\n",
      "CHAT BOT : Your partner choose to exit, Bye!\n"
     ]
    }
   ],
   "source": [
    "import socket as sk\n",
    "s = sk.socket(family=sk.AF_INET,type=sk.SOCK_DGRAM)\n",
    "print(\"CHAT SERVICE UP AND RUNNING\")\n",
    "print(\"Enter q or quit to end the session\")\n",
    "name = input(\"Enter your name (press enter to take system name): \") or sk.gethostname()\n",
    "server = input(\"Enter the IP of recv: \")\n",
    "while True:\n",
    "    sendmsg = input(\"You: \")\n",
    "    if sendmsg == 'q' or sendmsg == 'quit':\n",
    "        sendmsg = \"{0} : {1}\".format(\"CHAT BOT\",\"Your partner choose to exit, Bye!\")\n",
    "        sendmsg = str.encode(sendmsg)\n",
    "        s.sendto(sendmsg,((server,5555)))\n",
    "        s.close()\n",
    "        break\n",
    "    else:\n",
    "        sendmsg = \"{0} : {1}\".format(name,sendmsg)\n",
    "        sendmsg = str.encode(sendmsg)\n",
    "        s.sendto(sendmsg,((server,5555)))\n",
    "        recv = s.recvfrom(1024)\n",
    "        msg = recv[0]\n",
    "        print(msg.decode(\"utf-8\"))\n",
    "        if msg.decode(\"utf-8\") == \"CHAT BOT : Your partner choose to exit, Bye!\":\n",
    "            s.close()\n",
    "            break"
   ]
  },
  {
   "cell_type": "code",
   "execution_count": null,
   "metadata": {},
   "outputs": [],
   "source": []
  }
 ],
 "metadata": {
  "kernelspec": {
   "display_name": "Python 3",
   "language": "python",
   "name": "python3"
  },
  "language_info": {
   "codemirror_mode": {
    "name": "ipython",
    "version": 3
   },
   "file_extension": ".py",
   "mimetype": "text/x-python",
   "name": "python",
   "nbconvert_exporter": "python",
   "pygments_lexer": "ipython3",
   "version": "3.7.4"
  }
 },
 "nbformat": 4,
 "nbformat_minor": 2
}
