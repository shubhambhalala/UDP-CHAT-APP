{
 "cells": [
  {
   "cell_type": "code",
   "execution_count": 1,
   "metadata": {},
   "outputs": [
    {
     "name": "stdout",
     "output_type": "stream",
     "text": [
      "CHAT SERVICE UP AND RUNNING\n",
      "Enter q or quit to end the session\n",
      "Enter your name (press enter to take system name): Admin\n",
      "Shubham(DevOps) : Hello Sir\n",
      "You: Good morning, We have a meeting @7 ✌\n",
      "Shubham(DevOps) : Yes, sir. Already ready 🔥\n",
      "You: quit\n"
     ]
    }
   ],
   "source": [
    "import socket as sk\n",
    "s = sk.socket(family=sk.AF_INET,type=sk.SOCK_DGRAM)\n",
    "s.bind((str(sk.gethostbyname(sk.gethostname())),5555))\n",
    "print(\"CHAT SERVICE UP AND RUNNING\")\n",
    "print(\"Enter q or quit to end the session\")\n",
    "name = input(\"Enter your name (press enter to take system name): \") or sk.gethostname()\n",
    "while True:\n",
    "    client = s.recvfrom(1024)\n",
    "    msg = client[0]\n",
    "    if msg.decode(\"utf-8\") == \"CHAT BOT : Your partner choose to exit, Bye!\":\n",
    "        s.close()\n",
    "        break\n",
    "    sender = client[1]\n",
    "    print(msg.decode(\"utf-8\"))\n",
    "    sendmsg = input(\"You: \")\n",
    "    if sendmsg == 'q' or sendmsg == 'quit':\n",
    "        sendmsg = \"{0} : {1}\".format(\"CHAT BOT\",\"Your partner choose to exit, Bye!\")\n",
    "        s.sendto(str.encode(sendmsg),sender)\n",
    "        s.close()\n",
    "        break\n",
    "    else:\n",
    "        sendmsg = \"{0} : {1}\".format(name,sendmsg)\n",
    "        s.sendto(str.encode(sendmsg),sender)\n"
   ]
  },
  {
   "cell_type": "code",
   "execution_count": null,
   "metadata": {},
   "outputs": [],
   "source": []
  },
  {
   "cell_type": "code",
   "execution_count": null,
   "metadata": {},
   "outputs": [],
   "source": []
  },
  {
   "cell_type": "code",
   "execution_count": null,
   "metadata": {},
   "outputs": [],
   "source": [
    "def netscanner():\n",
    "        reslist = []\n",
    "        currnet = str(sk.gethostbyname(sk.gethostname())).split(\".\")\n",
    "        for i in range(1,256):\n",
    "            currnet[3] = str(i)\n",
    "            currip = \".\".join(currnet)\n",
    "            soc = sk.socket(sk.AF_INET,sk.SOCK_DGRAM)\n",
    "            res = soc.connect_ex((currip,5555))\n",
    "            if res == 0:\n",
    "                reslist.append(currip)\n",
    "        return reslist"
   ]
  }
 ],
 "metadata": {
  "kernelspec": {
   "display_name": "Python 3",
   "language": "python",
   "name": "python3"
  },
  "language_info": {
   "codemirror_mode": {
    "name": "ipython",
    "version": 3
   },
   "file_extension": ".py",
   "mimetype": "text/x-python",
   "name": "python",
   "nbconvert_exporter": "python",
   "pygments_lexer": "ipython3",
   "version": "3.7.4"
  }
 },
 "nbformat": 4,
 "nbformat_minor": 2
}
